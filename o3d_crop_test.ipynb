{
 "cells": [
  {
   "cell_type": "markdown",
   "source": [
    "# Quick experiment: Cropping point cloud with open 3D"
   ],
   "metadata": {
    "collapsed": false,
    "pycharm": {
     "name": "#%% md\n"
    }
   }
  },
  {
   "cell_type": "code",
   "execution_count": 17,
   "outputs": [],
   "source": [
    "import open3d as o3d\n",
    "import os\n",
    "from typing import List\n",
    "from tqdm import tqdm\n",
    "import numpy as np\n",
    "import laspy"
   ],
   "metadata": {
    "collapsed": false,
    "pycharm": {
     "name": "#%%\n"
    }
   }
  },
  {
   "cell_type": "code",
   "execution_count": 7,
   "outputs": [],
   "source": [
    "os.chdir('/scratch/bingxin/project/ImpliCity_Regress/ImpliCityFork')\n",
    "input_pc_folder = \"data/source_data/ZUR1/Point_Clouds\"\n",
    "input_pc_paths: List = [os.path.join(input_pc_folder, _path) for _path in os.listdir(input_pc_folder)]"
   ],
   "metadata": {
    "collapsed": false,
    "pycharm": {
     "name": "#%%\n"
    }
   }
  },
  {
   "cell_type": "code",
   "execution_count": 15,
   "outputs": [],
   "source": [
    "def load_las_as_numpy(las_path: str) -> np.ndarray:\n",
    "    \"\"\"\n",
    "    Load .las point cloud and convert into numpy array\n",
    "    This one is slow, because laspy returns a list of tuple, which can't be directly transformed into numpy array\n",
    "    Args:\n",
    "        las_path: full path to las file\n",
    "\n",
    "    Returns:\n",
    "\n",
    "    \"\"\"\n",
    "    with laspy.open(las_path) as f:\n",
    "        _las = f.read()\n",
    "    x = np.array(_las.x).reshape((-1, 1))\n",
    "    y = np.array(_las.y).reshape((-1, 1))\n",
    "    z = np.array(_las.z).reshape((-1, 1))\n",
    "    points = np.concatenate([x, y, z], 1)\n",
    "    # points = _las.points.array\n",
    "    # points = np.asarray(points.tolist())[:, 0:3].astype(np.float)\n",
    "    return points"
   ],
   "metadata": {
    "collapsed": false,
    "pycharm": {
     "name": "#%%\n"
    }
   }
  },
  {
   "cell_type": "code",
   "execution_count": 18,
   "outputs": [
    {
     "name": "stderr",
     "output_type": "stream",
     "text": [
      "Loading point clouds: 100%|██████████| 26/26 [00:39<00:00,  1.52s/it]\n"
     ]
    }
   ],
   "source": [
    "merged_pts: np.ndarray = np.empty((0, 3))\n",
    "for _full_path in tqdm(input_pc_paths, desc=\"Loading point clouds\"):\n",
    "    # _temp_points = load_pc(_full_path)\n",
    "    _temp_points = load_las_as_numpy(_full_path)\n",
    "\n",
    "    merged_pts = np.append(merged_pts, _temp_points, 0)\n"
   ],
   "metadata": {
    "collapsed": false,
    "pycharm": {
     "name": "#%%\n"
    }
   }
  },
  {
   "cell_type": "code",
   "execution_count": 44,
   "outputs": [],
   "source": [
    "o3d_device = o3d.core.Device(\"CPU:0\")\n",
    "pcd = o3d.t.geometry.PointCloud(merged_pts)\n",
    "\n",
    "# pcd.points = o3d.utility.Vector3dVector(merged_pts)"
   ],
   "metadata": {
    "collapsed": false,
    "pycharm": {
     "name": "#%%\n"
    }
   }
  },
  {
   "cell_type": "code",
   "execution_count": 65,
   "outputs": [],
   "source": [
    "pcd.point['label'] = np.random.rand(merged_pts.shape[0])"
   ],
   "metadata": {
    "collapsed": false,
    "pycharm": {
     "name": "#%%\n"
    }
   }
  },
  {
   "cell_type": "code",
   "execution_count": 66,
   "outputs": [
    {
     "data": {
      "text/plain": "PointCloud on CPU:0 [165928107 points (Float64)] Attributes: label (dtype = Float64, shape = {165928107})."
     },
     "execution_count": 66,
     "metadata": {},
     "output_type": "execute_result"
    }
   ],
   "source": [
    "pcd"
   ],
   "metadata": {
    "collapsed": false,
    "pycharm": {
     "name": "#%%\n"
    }
   }
  },
  {
   "cell_type": "code",
   "execution_count": 53,
   "outputs": [
    {
     "data": {
      "text/plain": "[465450. 5.24994e+06 936.145]\nTensor[shape={3}, stride={1}, Float64, CPU:0, 0x55743d7005c0]"
     },
     "execution_count": 53,
     "metadata": {},
     "output_type": "execute_result"
    }
   ],
   "source": [
    "pcd.get_max_bound()"
   ],
   "metadata": {
    "collapsed": false,
    "pycharm": {
     "name": "#%%\n"
    }
   }
  },
  {
   "cell_type": "code",
   "execution_count": 57,
   "outputs": [],
   "source": [
    "p_min = pcd.get_min_bound()\n",
    "p_max = p_min + np.array([64., 64., 200.])"
   ],
   "metadata": {
    "collapsed": false,
    "pycharm": {
     "name": "#%%\n"
    }
   }
  },
  {
   "cell_type": "code",
   "execution_count": 69,
   "outputs": [
    {
     "ename": "AttributeError",
     "evalue": "type object 'open3d.cuda.pybind.geometry.PointCloud' has no attribute 'crop_point_cloud'",
     "output_type": "error",
     "traceback": [
      "\u001B[0;31m---------------------------------------------------------------------------\u001B[0m",
      "\u001B[0;31mAttributeError\u001B[0m                            Traceback (most recent call last)",
      "Cell \u001B[0;32mIn [69], line 1\u001B[0m\n\u001B[0;32m----> 1\u001B[0m out \u001B[38;5;241m=\u001B[39m o3d\u001B[38;5;241m.\u001B[39mgeometry\u001B[38;5;241m.\u001B[39mPointCloud\u001B[38;5;241m.\u001B[39mcrop_point_cloud(p_min, p_max)\n",
      "\u001B[0;31mAttributeError\u001B[0m: type object 'open3d.cuda.pybind.geometry.PointCloud' has no attribute 'crop_point_cloud'"
     ]
    }
   ],
   "source": [
    "out = o3d.geometry.PointCloud.crop_point_cloud(p_min, p_max)"
   ],
   "metadata": {
    "collapsed": false,
    "pycharm": {
     "name": "#%%\n"
    }
   }
  },
  {
   "cell_type": "code",
   "execution_count": 59,
   "outputs": [
    {
     "data": {
      "text/plain": "[463210. 5.24815e+06 383.607]\nTensor[shape={3}, stride={1}, Float64, CPU:0, 0x55743bbde030]"
     },
     "execution_count": 59,
     "metadata": {},
     "output_type": "execute_result"
    }
   ],
   "source": [
    "o3d.utility.Vector4iVector()"
   ],
   "metadata": {
    "collapsed": false,
    "pycharm": {
     "name": "#%%\n"
    }
   }
  },
  {
   "cell_type": "code",
   "execution_count": null,
   "outputs": [],
   "source": [],
   "metadata": {
    "collapsed": false,
    "pycharm": {
     "name": "#%%\n"
    }
   }
  }
 ],
 "metadata": {
  "kernelspec": {
   "display_name": "Python 3",
   "language": "python",
   "name": "python3"
  },
  "language_info": {
   "codemirror_mode": {
    "name": "ipython",
    "version": 2
   },
   "file_extension": ".py",
   "mimetype": "text/x-python",
   "name": "python",
   "nbconvert_exporter": "python",
   "pygments_lexer": "ipython2",
   "version": "2.7.6"
  }
 },
 "nbformat": 4,
 "nbformat_minor": 0
}
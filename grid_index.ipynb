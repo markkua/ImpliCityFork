{
 "cells": [
  {
   "cell_type": "markdown",
   "source": [
    "# quick implementation of grid index for searching\n"
   ],
   "metadata": {
    "collapsed": false,
    "pycharm": {
     "name": "#%% md\n"
    }
   }
  },
  {
   "cell_type": "code",
   "execution_count": null,
   "outputs": [],
   "source": [
    "import os\n",
    "from typing import List\n",
    "from tqdm import tqdm\n",
    "import numpy as np\n",
    "import laspy\n",
    "\n"
   ],
   "metadata": {
    "collapsed": false,
    "pycharm": {
     "name": "#%%\n"
    }
   }
  },
  {
   "cell_type": "code",
   "execution_count": null,
   "outputs": [],
   "source": [
    "os.chdir('/scratch/bingxin/project/ImpliCity_Regress/ImpliCityFork')\n",
    "input_pc_folder = \"data/source_data/ZUR1/Point_Clouds\"\n",
    "input_pc_paths: List = [os.path.join(input_pc_folder, _path) for _path in os.listdir(input_pc_folder)]\n",
    "\n",
    "\n",
    "def load_las_as_numpy(las_path: str) -> np.ndarray:\n",
    "    \"\"\"\n",
    "    Load .las point cloud and convert into numpy array\n",
    "    This one is slow, because laspy returns a list of tuple, which can't be directly transformed into numpy array\n",
    "    Args:\n",
    "        las_path: full path to las file\n",
    "\n",
    "    Returns:\n",
    "\n",
    "    \"\"\"\n",
    "    with laspy.open(las_path) as f:\n",
    "        _las = f.read()\n",
    "    x = np.array(_las.x).reshape((-1, 1))\n",
    "    y = np.array(_las.y).reshape((-1, 1))\n",
    "    z = np.array(_las.z).reshape((-1, 1))\n",
    "    points = np.concatenate([x, y, z], 1)\n",
    "    # points = _las.points.array\n",
    "    # points = np.asarray(points.tolist())[:, 0:3].astype(np.float)\n",
    "    return points\n",
    "\n",
    "\n",
    "merged_pts: np.ndarray = np.empty((0, 3))\n",
    "for _full_path in tqdm(input_pc_paths, desc=\"Loading point clouds\"):\n",
    "    # _temp_points = load_pc(_full_path)\n",
    "    _temp_points = load_las_as_numpy(_full_path)\n",
    "\n",
    "    merged_pts = np.append(merged_pts, _temp_points, 0)"
   ],
   "metadata": {
    "collapsed": false,
    "pycharm": {
     "name": "#%%\n"
    }
   }
  },
  {
   "cell_type": "code",
   "execution_count": null,
   "outputs": [],
   "source": [
    "p_min = merged_pts.min(axis=0)\n",
    "p_max = merged_pts.max(axis=0)"
   ],
   "metadata": {
    "collapsed": false,
    "pycharm": {
     "name": "#%%\n"
    }
   }
  },
  {
   "cell_type": "code",
   "execution_count": null,
   "outputs": [],
   "source": [
    "grid_size = np.array([32, 32])  # x, y"
   ],
   "metadata": {
    "collapsed": false,
    "pycharm": {
     "name": "#%%\n"
    }
   }
  },
  {
   "cell_type": "code",
   "execution_count": null,
   "outputs": [],
   "source": [
    "p_min"
   ],
   "metadata": {
    "collapsed": false,
    "pycharm": {
     "name": "#%%\n"
    }
   }
  },
  {
   "cell_type": "code",
   "execution_count": null,
   "outputs": [],
   "source": [
    "p_max"
   ],
   "metadata": {
    "collapsed": false,
    "pycharm": {
     "name": "#%%\n"
    }
   }
  },
  {
   "cell_type": "code",
   "execution_count": null,
   "outputs": [],
   "source": [
    "grid_dimension"
   ],
   "metadata": {
    "collapsed": false,
    "pycharm": {
     "name": "#%%\n"
    }
   }
  },
  {
   "cell_type": "code",
   "execution_count": null,
   "outputs": [],
   "source": [
    "# for index grid, p_min -> (0, 0), p_min -> (grid_dimension[0] - 1, grid_dimension[1] - 1)\n",
    "\n",
    "# get grid extent\n",
    "grid_num = grid_dimension[0] * grid_dimension[1]\n",
    "_x = np.linspace(p_min[0], p_max[0], grid_dimension[0]+1)\n",
    "_y = np.linspace(p_min[1], p_max[1], grid_dimension[1]+1)\n",
    "vx, vy = np.meshgrid(_x, _y)\n",
    "vx = np.expand_dims(vx, axis=2)\n",
    "vy = np.expand_dims(vy, axis=2)\n",
    "\n",
    "grid_extent = np.concatenate([\n",
    "    vx[:-1, :-1],\n",
    "    vy[:-1, :-1],\n",
    "    vx[1:, 1:],\n",
    "    vy[1:, 1:]\n",
    "], axis=2).reshape((-1, 4))  # [xmin, ymin, xmax, ymax]\n",
    "\n",
    "\n"
   ],
   "metadata": {
    "collapsed": false,
    "pycharm": {
     "name": "#%%\n"
    }
   }
  },
  {
   "cell_type": "code",
   "execution_count": null,
   "outputs": [],
   "source": [
    "grid_extent"
   ],
   "metadata": {
    "collapsed": false,
    "pycharm": {
     "name": "#%%\n"
    }
   }
  },
  {
   "cell_type": "code",
   "execution_count": null,
   "outputs": [],
   "source": [
    "# assign grid index to each point\n",
    "\n",
    "point_grid_index = np.floor((merged_pts[:, 1] - p_min[1]) / grid_size[1]) * grid_dimension[0] + np.floor((merged_pts[:, 0] - p_min[0]) / grid_size[0])\n",
    "point_grid_index = point_grid_index.astype(int)"
   ],
   "metadata": {
    "collapsed": false,
    "pycharm": {
     "name": "#%%\n"
    }
   }
  },
  {
   "cell_type": "code",
   "execution_count": null,
   "outputs": [],
   "source": [
    "point_grid_index"
   ],
   "metadata": {
    "collapsed": false,
    "pycharm": {
     "name": "#%%\n"
    }
   }
  },
  {
   "cell_type": "code",
   "execution_count": null,
   "outputs": [],
   "source": [
    "\n",
    "line_idx = 0\n",
    "index_dict = { i: [] for i in range(grid_num)}\n",
    "\n",
    "def assign_grid_index(row):\n",
    "    global line_idx, index_dict, grid_dimension\n",
    "    idx = np.floor((row[1] - p_min[1]) / grid_size[1]) * grid_dimension[0] + np.floor((row[0] - p_min[0]) / grid_size[0])\n",
    "    index_dict[int(idx)].append(line_idx)\n",
    "    line_idx += 1\n",
    "    return\n",
    "\n",
    "np.apply_along_axis(lambda r: assign_grid_index(row=r), axis=1, arr=merged_pts)"
   ],
   "metadata": {
    "collapsed": false,
    "pycharm": {
     "name": "#%%\n"
    }
   }
  },
  {
   "cell_type": "code",
   "execution_count": null,
   "outputs": [],
   "source": [],
   "metadata": {
    "collapsed": false,
    "pycharm": {
     "name": "#%%\n"
    }
   }
  },
  {
   "cell_type": "code",
   "execution_count": null,
   "outputs": [],
   "source": [],
   "metadata": {
    "collapsed": false,
    "pycharm": {
     "name": "#%%\n"
    }
   }
  }
 ],
 "metadata": {
  "kernelspec": {
   "display_name": "Python 3",
   "language": "python",
   "name": "python3"
  },
  "language_info": {
   "codemirror_mode": {
    "name": "ipython",
    "version": 2
   },
   "file_extension": ".py",
   "mimetype": "text/x-python",
   "name": "python",
   "nbconvert_exporter": "python",
   "pygments_lexer": "ipython2",
   "version": "2.7.6"
  }
 },
 "nbformat": 4,
 "nbformat_minor": 0
}
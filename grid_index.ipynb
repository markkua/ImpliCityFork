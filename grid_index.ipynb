{
 "cells": [
  {
   "cell_type": "markdown",
   "source": [
    "# quick implementation of grid index for searching\n"
   ],
   "metadata": {
    "collapsed": false,
    "pycharm": {
     "name": "#%% md\n"
    }
   }
  },
  {
   "cell_type": "code",
   "execution_count": 30,
   "outputs": [],
   "source": [
    "import os\n",
    "from typing import List\n",
    "from tqdm import tqdm\n",
    "import numpy as np\n",
    "import laspy\n",
    "\n"
   ],
   "metadata": {
    "collapsed": false,
    "pycharm": {
     "name": "#%%\n"
    }
   }
  },
  {
   "cell_type": "code",
   "execution_count": 31,
   "outputs": [
    {
     "name": "stderr",
     "output_type": "stream",
     "text": [
      "Loading point clouds:  88%|████████▊ | 23/26 [00:48<00:06,  2.10s/it]\n",
      "\n",
      "KeyboardInterrupt\n",
      "\n"
     ]
    }
   ],
   "source": [
    "os.chdir('/scratch/bingxin/project/ImpliCity_Regress/ImpliCityFork')\n",
    "input_pc_folder = \"data/source_data/ZUR1/Point_Clouds\"\n",
    "input_pc_paths: List = [os.path.join(input_pc_folder, _path) for _path in os.listdir(input_pc_folder)]\n",
    "\n",
    "\n",
    "def load_las_as_numpy(las_path: str) -> np.ndarray:\n",
    "    \"\"\"\n",
    "    Load .las point cloud and convert into numpy array\n",
    "    This one is slow, because laspy returns a list of tuple, which can't be directly transformed into numpy array\n",
    "    Args:\n",
    "        las_path: full path to las file\n",
    "\n",
    "    Returns:\n",
    "\n",
    "    \"\"\"\n",
    "    with laspy.open(las_path) as f:\n",
    "        _las = f.read()\n",
    "    x = np.array(_las.x).reshape((-1, 1))\n",
    "    y = np.array(_las.y).reshape((-1, 1))\n",
    "    z = np.array(_las.z).reshape((-1, 1))\n",
    "    points = np.concatenate([x, y, z], 1)\n",
    "    # points = _las.points.array\n",
    "    # points = np.asarray(points.tolist())[:, 0:3].astype(np.float)\n",
    "    return points\n",
    "\n",
    "\n",
    "merged_pts: np.ndarray = np.empty((0, 3))\n",
    "for _full_path in tqdm(input_pc_paths, desc=\"Loading point clouds\"):\n",
    "    # _temp_points = load_pc(_full_path)\n",
    "    _temp_points = load_las_as_numpy(_full_path)\n",
    "\n",
    "    merged_pts = np.append(merged_pts, _temp_points, 0)"
   ],
   "metadata": {
    "collapsed": false,
    "pycharm": {
     "name": "#%%\n"
    }
   }
  },
  {
   "cell_type": "code",
   "execution_count": null,
   "outputs": [],
   "source": [
    "p_min = merged_pts.min(axis=0)\n",
    "p_max = merged_pts.max(axis=0)"
   ],
   "metadata": {
    "collapsed": false,
    "pycharm": {
     "name": "#%%\n"
    }
   }
  },
  {
   "cell_type": "code",
   "execution_count": null,
   "outputs": [],
   "source": [
    "grid_size = np.array([32, 32])  # x, y"
   ],
   "metadata": {
    "collapsed": false,
    "pycharm": {
     "name": "#%%\n"
    }
   }
  },
  {
   "cell_type": "code",
   "execution_count": null,
   "outputs": [],
   "source": [
    "p_min"
   ],
   "metadata": {
    "collapsed": false,
    "pycharm": {
     "name": "#%%\n"
    }
   }
  },
  {
   "cell_type": "code",
   "execution_count": null,
   "outputs": [],
   "source": [
    "p_max"
   ],
   "metadata": {
    "collapsed": false,
    "pycharm": {
     "name": "#%%\n"
    }
   }
  },
  {
   "cell_type": "code",
   "execution_count": null,
   "outputs": [],
   "source": [
    "grid_dimension"
   ],
   "metadata": {
    "collapsed": false,
    "pycharm": {
     "name": "#%%\n"
    }
   }
  },
  {
   "cell_type": "code",
   "execution_count": null,
   "outputs": [],
   "source": [
    "# for index grid, p_min -> (0, 0), p_min -> (grid_dimension[0] - 1, grid_dimension[1] - 1)\n",
    "\n",
    "# get grid extent\n",
    "grid_num = grid_dimension[0] * grid_dimension[1]\n",
    "_x = np.linspace(p_min[0], p_max[0], grid_dimension[0]+1)\n",
    "_y = np.linspace(p_min[1], p_max[1], grid_dimension[1]+1)\n",
    "vx, vy = np.meshgrid(_x, _y)\n",
    "vx = np.expand_dims(vx, axis=2)\n",
    "vy = np.expand_dims(vy, axis=2)\n",
    "\n",
    "grid_extent = np.concatenate([\n",
    "    vx[:-1, :-1],\n",
    "    vy[:-1, :-1],\n",
    "    vx[1:, 1:],\n",
    "    vy[1:, 1:]\n",
    "], axis=2).reshape((-1, 4))  # [xmin, ymin, xmax, ymax]\n",
    "\n",
    "\n"
   ],
   "metadata": {
    "collapsed": false,
    "pycharm": {
     "name": "#%%\n"
    }
   }
  },
  {
   "cell_type": "code",
   "execution_count": null,
   "outputs": [],
   "source": [
    "grid_extent"
   ],
   "metadata": {
    "collapsed": false,
    "pycharm": {
     "name": "#%%\n"
    }
   }
  },
  {
   "cell_type": "code",
   "execution_count": null,
   "outputs": [],
   "source": [
    "# assign grid index to each point\n",
    "\n",
    "point_grid_index = np.floor((merged_pts[:, 1] - p_min[1]) / grid_size[1]) * grid_dimension[0] + np.floor((merged_pts[:, 0] - p_min[0]) / grid_size[0])\n",
    "point_grid_index = point_grid_index.astype(int)"
   ],
   "metadata": {
    "collapsed": false,
    "pycharm": {
     "name": "#%%\n"
    }
   }
  },
  {
   "cell_type": "code",
   "execution_count": null,
   "outputs": [],
   "source": [
    "point_grid_index"
   ],
   "metadata": {
    "collapsed": false,
    "pycharm": {
     "name": "#%%\n"
    }
   }
  },
  {
   "cell_type": "code",
   "execution_count": 29,
   "outputs": [
    {
     "ename": "KeyboardInterrupt",
     "evalue": "",
     "output_type": "error",
     "traceback": [
      "\u001B[0;31m---------------------------------------------------------------------------\u001B[0m",
      "\u001B[0;31mKeyboardInterrupt\u001B[0m                         Traceback (most recent call last)",
      "Cell \u001B[0;32mIn [29], line 11\u001B[0m\n\u001B[1;32m      8\u001B[0m     line_idx \u001B[38;5;241m+\u001B[39m\u001B[38;5;241m=\u001B[39m \u001B[38;5;241m1\u001B[39m\n\u001B[1;32m      9\u001B[0m     \u001B[38;5;28;01mreturn\u001B[39;00m\n\u001B[0;32m---> 11\u001B[0m np\u001B[38;5;241m.\u001B[39mapply_along_axis(\u001B[38;5;28;01mlambda\u001B[39;00m r: assign_grid_index(row\u001B[38;5;241m=\u001B[39mr), axis\u001B[38;5;241m=\u001B[39m\u001B[38;5;241m1\u001B[39m, arr\u001B[38;5;241m=\u001B[39mmerged_pts)\n",
      "File \u001B[0;32m<__array_function__ internals>:180\u001B[0m, in \u001B[0;36mapply_along_axis\u001B[0;34m(*args, **kwargs)\u001B[0m\n",
      "File \u001B[0;32m/scratch/bingxin/venv/conda38/lib/python3.8/site-packages/numpy/lib/shape_base.py:402\u001B[0m, in \u001B[0;36mapply_along_axis\u001B[0;34m(func1d, axis, arr, *args, **kwargs)\u001B[0m\n\u001B[1;32m    400\u001B[0m buff[ind0] \u001B[38;5;241m=\u001B[39m res\n\u001B[1;32m    401\u001B[0m \u001B[38;5;28;01mfor\u001B[39;00m ind \u001B[38;5;129;01min\u001B[39;00m inds:\n\u001B[0;32m--> 402\u001B[0m     buff[ind] \u001B[38;5;241m=\u001B[39m asanyarray(\u001B[43mfunc1d\u001B[49m\u001B[43m(\u001B[49m\u001B[43minarr_view\u001B[49m\u001B[43m[\u001B[49m\u001B[43mind\u001B[49m\u001B[43m]\u001B[49m\u001B[43m,\u001B[49m\u001B[43m \u001B[49m\u001B[38;5;241;43m*\u001B[39;49m\u001B[43margs\u001B[49m\u001B[43m,\u001B[49m\u001B[43m \u001B[49m\u001B[38;5;241;43m*\u001B[39;49m\u001B[38;5;241;43m*\u001B[39;49m\u001B[43mkwargs\u001B[49m\u001B[43m)\u001B[49m)\n\u001B[1;32m    404\u001B[0m \u001B[38;5;28;01mif\u001B[39;00m \u001B[38;5;129;01mnot\u001B[39;00m \u001B[38;5;28misinstance\u001B[39m(res, matrix):\n\u001B[1;32m    405\u001B[0m     \u001B[38;5;66;03m# wrap the array, to preserve subclasses\u001B[39;00m\n\u001B[1;32m    406\u001B[0m     buff \u001B[38;5;241m=\u001B[39m res\u001B[38;5;241m.\u001B[39m__array_wrap__(buff)\n",
      "Cell \u001B[0;32mIn [29], line 11\u001B[0m, in \u001B[0;36m<lambda>\u001B[0;34m(r)\u001B[0m\n\u001B[1;32m      8\u001B[0m     line_idx \u001B[38;5;241m+\u001B[39m\u001B[38;5;241m=\u001B[39m \u001B[38;5;241m1\u001B[39m\n\u001B[1;32m      9\u001B[0m     \u001B[38;5;28;01mreturn\u001B[39;00m\n\u001B[0;32m---> 11\u001B[0m np\u001B[38;5;241m.\u001B[39mapply_along_axis(\u001B[38;5;28;01mlambda\u001B[39;00m r: \u001B[43massign_grid_index\u001B[49m\u001B[43m(\u001B[49m\u001B[43mrow\u001B[49m\u001B[38;5;241;43m=\u001B[39;49m\u001B[43mr\u001B[49m\u001B[43m)\u001B[49m, axis\u001B[38;5;241m=\u001B[39m\u001B[38;5;241m1\u001B[39m, arr\u001B[38;5;241m=\u001B[39mmerged_pts)\n",
      "Cell \u001B[0;32mIn [29], line 6\u001B[0m, in \u001B[0;36massign_grid_index\u001B[0;34m(row)\u001B[0m\n\u001B[1;32m      4\u001B[0m \u001B[38;5;28;01mdef\u001B[39;00m \u001B[38;5;21massign_grid_index\u001B[39m(row):\n\u001B[1;32m      5\u001B[0m     \u001B[38;5;28;01mglobal\u001B[39;00m line_idx, index_dict\n\u001B[0;32m----> 6\u001B[0m     idx \u001B[38;5;241m=\u001B[39m \u001B[43mnp\u001B[49m\u001B[38;5;241;43m.\u001B[39;49m\u001B[43mfloor\u001B[49m\u001B[43m(\u001B[49m\u001B[43m(\u001B[49m\u001B[43mrow\u001B[49m\u001B[43m[\u001B[49m\u001B[38;5;241;43m1\u001B[39;49m\u001B[43m]\u001B[49m\u001B[43m \u001B[49m\u001B[38;5;241;43m-\u001B[39;49m\u001B[43m \u001B[49m\u001B[43mp_min\u001B[49m\u001B[43m[\u001B[49m\u001B[38;5;241;43m1\u001B[39;49m\u001B[43m]\u001B[49m\u001B[43m)\u001B[49m\u001B[43m \u001B[49m\u001B[38;5;241;43m/\u001B[39;49m\u001B[43m \u001B[49m\u001B[43mgrid_size\u001B[49m\u001B[43m[\u001B[49m\u001B[38;5;241;43m1\u001B[39;49m\u001B[43m]\u001B[49m\u001B[43m)\u001B[49m \u001B[38;5;241m*\u001B[39m grid_dimension[\u001B[38;5;241m0\u001B[39m] \u001B[38;5;241m+\u001B[39m np\u001B[38;5;241m.\u001B[39mfloor((row[\u001B[38;5;241m0\u001B[39m] \u001B[38;5;241m-\u001B[39m p_min[\u001B[38;5;241m0\u001B[39m]) \u001B[38;5;241m/\u001B[39m grid_size[\u001B[38;5;241m0\u001B[39m])\n\u001B[1;32m      7\u001B[0m     index_dict[idx]\u001B[38;5;241m.\u001B[39mappend(line_idx)\n\u001B[1;32m      8\u001B[0m     line_idx \u001B[38;5;241m+\u001B[39m\u001B[38;5;241m=\u001B[39m \u001B[38;5;241m1\u001B[39m\n",
      "\u001B[0;31mKeyboardInterrupt\u001B[0m: "
     ]
    }
   ],
   "source": [
    "\n",
    "line_idx = 0\n",
    "index_dict = { i: [] for i in range(grid_num)}\n",
    "\n",
    "def assign_grid_index(row):\n",
    "    global line_idx, index_dict, grid_dimension\n",
    "    idx = np.floor((row[1] - p_min[1]) / grid_size[1]) * grid_dimension[0] + np.floor((row[0] - p_min[0]) / grid_size[0])\n",
    "    index_dict[int(idx)].append(line_idx)\n",
    "    line_idx += 1\n",
    "    return\n",
    "\n",
    "np.apply_along_axis(lambda r: assign_grid_index(row=r), axis=1, arr=merged_pts)"
   ],
   "metadata": {
    "collapsed": false,
    "pycharm": {
     "name": "#%%\n"
    }
   }
  },
  {
   "cell_type": "code",
   "execution_count": null,
   "outputs": [],
   "source": [],
   "metadata": {
    "collapsed": false,
    "pycharm": {
     "name": "#%%\n"
    }
   }
  },
  {
   "cell_type": "code",
   "execution_count": null,
   "outputs": [],
   "source": [],
   "metadata": {
    "collapsed": false,
    "pycharm": {
     "name": "#%%\n"
    }
   }
  }
 ],
 "metadata": {
  "kernelspec": {
   "display_name": "Python 3",
   "language": "python",
   "name": "python3"
  },
  "language_info": {
   "codemirror_mode": {
    "name": "ipython",
    "version": 2
   },
   "file_extension": ".py",
   "mimetype": "text/x-python",
   "name": "python",
   "nbconvert_exporter": "python",
   "pygments_lexer": "ipython2",
   "version": "2.7.6"
  }
 },
 "nbformat": 4,
 "nbformat_minor": 0
}